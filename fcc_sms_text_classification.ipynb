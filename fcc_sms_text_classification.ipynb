{
  "cells": [
    {
      "cell_type": "code",
      "execution_count": 1,
      "metadata": {
        "id": "8RZOuS9LWQvv"
      },
      "outputs": [
        {
          "name": "stderr",
          "output_type": "stream",
          "text": [
            "2023-03-12 10:13:38.022748: I tensorflow/core/platform/cpu_feature_guard.cc:193] This TensorFlow binary is optimized with oneAPI Deep Neural Network Library (oneDNN) to use the following CPU instructions in performance-critical operations:  AVX2 AVX512F AVX512_VNNI FMA\n",
            "To enable them in other operations, rebuild TensorFlow with the appropriate compiler flags.\n",
            "2023-03-12 10:13:38.245845: I tensorflow/core/util/port.cc:104] oneDNN custom operations are on. You may see slightly different numerical results due to floating-point round-off errors from different computation orders. To turn them off, set the environment variable `TF_ENABLE_ONEDNN_OPTS=0`.\n"
          ]
        },
        {
          "name": "stdout",
          "output_type": "stream",
          "text": [
            "2.11.0\n"
          ]
        }
      ],
      "source": [
        "# import libraries\n",
        "import tensorflow as tf\n",
        "import pandas as pd\n",
        "import numpy as np\n",
        "from tensorflow import keras\n",
        "from tensorflow.keras.layers import TextVectorization, Input, Dense, GlobalAveragePooling1D\n",
        "\n",
        "print(tf.__version__)"
      ]
    },
    {
      "attachments": {},
      "cell_type": "markdown",
      "metadata": {},
      "source": [
        "## Load data"
      ]
    },
    {
      "cell_type": "code",
      "execution_count": null,
      "metadata": {
        "id": "lMHwYXHXCar3"
      },
      "outputs": [],
      "source": [
        "# get data files\n",
        "!wget https://cdn.freecodecamp.org/project-data/sms/train-data.tsv\n",
        "!wget https://cdn.freecodecamp.org/project-data/sms/valid-data.tsv"
      ]
    },
    {
      "cell_type": "code",
      "execution_count": 3,
      "metadata": {},
      "outputs": [
        {
          "name": "stdout",
          "output_type": "stream",
          "text": [
            "training dataset shape: (4179, 2)\n",
            "validation dataset shape: (1392, 2)\n"
          ]
        }
      ],
      "source": [
        "# load the data into dataframes\n",
        "train_file_path = \"train-data.tsv\"\n",
        "test_file_path = \"valid-data.tsv\"\n",
        "df_train = pd.read_table('train-data.tsv', names=['ham_or_spam', 'sms'])\n",
        "df_val = pd.read_table('valid-data.tsv', names=['ham_or_spam', 'sms'])\n",
        "\n",
        "# check the shapes\n",
        "print(f'training dataset shape: {df_train.shape}')\n",
        "print(f'validation dataset shape: {df_val.shape}')"
      ]
    },
    {
      "attachments": {},
      "cell_type": "markdown",
      "metadata": {},
      "source": [
        "## Pre-process data"
      ]
    },
    {
      "cell_type": "code",
      "execution_count": 4,
      "metadata": {},
      "outputs": [],
      "source": [
        "# create a label column with 0's for ham and 1's for spam\n",
        "df_train['label'] = df_train['ham_or_spam'].map({'ham': 0, 'spam': 1})\n",
        "df_val['label'] = df_val['ham_or_spam'].map({'ham': 0, 'spam': 1})"
      ]
    },
    {
      "cell_type": "code",
      "execution_count": 5,
      "metadata": {},
      "outputs": [
        {
          "data": {
            "text/plain": [
              "ham     3619\n",
              "spam     560\n",
              "Name: ham_or_spam, dtype: int64"
            ]
          },
          "execution_count": 5,
          "metadata": {},
          "output_type": "execute_result"
        }
      ],
      "source": [
        "# check the class distribution of the training data\n",
        "df_train['ham_or_spam'].value_counts()"
      ]
    },
    {
      "cell_type": "code",
      "execution_count": 6,
      "metadata": {},
      "outputs": [
        {
          "name": "stdout",
          "output_type": "stream",
          "text": [
            "{0: 0.5773694390715667, 1: 3.7312499999999997}\n"
          ]
        }
      ],
      "source": [
        "# set up class weights to account for the renatively small number of positive samples\n",
        "neg = (df_train['label'] == 0).sum()\n",
        "pos = (df_train['label'] == 1).sum()\n",
        "\n",
        "# calculate weights using the formula recommended in Tensorflow documentation\n",
        "# https://www.tensorflow.org/tutorials/structured_data/imbalanced_data#class_weights\n",
        "weight_for_0 = (1 / neg) * (len(df_train) / 2.0)\n",
        "weight_for_1 = (1 / pos) * (len(df_train) / 2.0)\n",
        "\n",
        "class_weight = {0: weight_for_0, 1: weight_for_1}\n",
        "print(class_weight)"
      ]
    },
    {
      "cell_type": "code",
      "execution_count": 7,
      "metadata": {},
      "outputs": [],
      "source": [
        "# set up train and validation sets as numpy arrays\n",
        "train_texts = df_train['sms'].to_numpy()\n",
        "train_labels = df_train['label'].to_numpy()\n",
        "val_texts = df_val['sms'].to_numpy()\n",
        "val_labels = df_val['label'].to_numpy()"
      ]
    },
    {
      "cell_type": "markdown",
      "metadata": {},
      "source": [
        "## Set up text processing layers"
      ]
    },
    {
      "cell_type": "code",
      "execution_count": 8,
      "metadata": {},
      "outputs": [
        {
          "name": "stderr",
          "output_type": "stream",
          "text": [
            "2023-03-12 10:18:57.265524: I tensorflow/core/platform/cpu_feature_guard.cc:193] This TensorFlow binary is optimized with oneAPI Deep Neural Network Library (oneDNN) to use the following CPU instructions in performance-critical operations:  AVX2 AVX512F AVX512_VNNI FMA\n",
            "To enable them in other operations, rebuild TensorFlow with the appropriate compiler flags.\n"
          ]
        }
      ],
      "source": [
        "# max number of words to use in our vocab\n",
        "max_vocab_length = 10000\n",
        "\n",
        "# max tokens in each sequence (sequences will be truncated or padded to this length)\n",
        "output_sequence_length = 30\n",
        "\n",
        "# create a text vectorizer layer to convert text to sequences of integers\n",
        "text_vectorizer = TextVectorization(max_tokens=max_vocab_length,\n",
        "                                    output_mode='int',\n",
        "                                    output_sequence_length=output_sequence_length)\n",
        "\n",
        "# Fit the text vectorizer to the training text\n",
        "text_vectorizer.adapt(train_texts)"
      ]
    },
    {
      "cell_type": "code",
      "execution_count": 9,
      "metadata": {},
      "outputs": [],
      "source": [
        "# Create an embedding layer to convert integer sequences to dense vectors\n",
        "embedding = tf.keras.layers.Embedding(input_dim=max_vocab_length,\n",
        "                                      output_dim=128, \n",
        "                                      input_length=output_sequence_length)"
      ]
    },
    {
      "attachments": {},
      "cell_type": "markdown",
      "metadata": {},
      "source": [
        "## Build & fit the model"
      ]
    },
    {
      "cell_type": "code",
      "execution_count": 10,
      "metadata": {},
      "outputs": [],
      "source": [
        "# build the model\n",
        "inputs = Input(shape=(1,), dtype=\"string\")\n",
        "x = text_vectorizer(inputs) # turn the input text into numbers\n",
        "x = embedding(x) # create an embedding of those numbers\n",
        "x = GlobalAveragePooling1D()(x) # condense the embeddings (1 vector per token) down to one vector\n",
        "outputs = Dense(1, activation='sigmoid')(x) # create an output layer\n",
        "model = tf.keras.Model(inputs, outputs)\n"
      ]
    },
    {
      "cell_type": "code",
      "execution_count": 11,
      "metadata": {},
      "outputs": [
        {
          "name": "stdout",
          "output_type": "stream",
          "text": [
            "Model: \"model\"\n",
            "_________________________________________________________________\n",
            " Layer (type)                Output Shape              Param #   \n",
            "=================================================================\n",
            " input_1 (InputLayer)        [(None, 1)]               0         \n",
            "                                                                 \n",
            " text_vectorization (TextVec  (None, 30)               0         \n",
            " torization)                                                     \n",
            "                                                                 \n",
            " embedding (Embedding)       (None, 30, 128)           1280000   \n",
            "                                                                 \n",
            " global_average_pooling1d (G  (None, 128)              0         \n",
            " lobalAveragePooling1D)                                          \n",
            "                                                                 \n",
            " dense (Dense)               (None, 1)                 129       \n",
            "                                                                 \n",
            "=================================================================\n",
            "Total params: 1,280,129\n",
            "Trainable params: 1,280,129\n",
            "Non-trainable params: 0\n",
            "_________________________________________________________________\n"
          ]
        }
      ],
      "source": [
        "# view a summary of the model\n",
        "model.summary()"
      ]
    },
    {
      "cell_type": "code",
      "execution_count": 12,
      "metadata": {},
      "outputs": [],
      "source": [
        "# Compile the model\n",
        "model.compile(loss='binary_crossentropy',\n",
        "              optimizer=tf.keras.optimizers.Adam(),\n",
        "              metrics=['accuracy', tf.keras.metrics.Precision(), tf.keras.metrics.Recall()])"
      ]
    },
    {
      "cell_type": "code",
      "execution_count": 13,
      "metadata": {},
      "outputs": [
        {
          "name": "stdout",
          "output_type": "stream",
          "text": [
            "Epoch 1/10\n",
            "131/131 [==============================] - 1s 7ms/step - loss: 0.5601 - accuracy: 0.9196 - precision: 0.7324 - recall: 0.6304 - val_loss: 0.3125 - val_accuracy: 0.9511 - val_precision: 0.8287 - val_recall: 0.8021\n",
            "Epoch 2/10\n",
            "131/131 [==============================] - 1s 6ms/step - loss: 0.2989 - accuracy: 0.9641 - precision: 0.8635 - recall: 0.8696 - val_loss: 0.2165 - val_accuracy: 0.9591 - val_precision: 0.8218 - val_recall: 0.8877\n",
            "Epoch 3/10\n",
            "131/131 [==============================] - 1s 6ms/step - loss: 0.1689 - accuracy: 0.9797 - precision: 0.9234 - recall: 0.9250 - val_loss: 0.1454 - val_accuracy: 0.9698 - val_precision: 0.8836 - val_recall: 0.8930\n",
            "Epoch 4/10\n",
            "131/131 [==============================] - 1s 6ms/step - loss: 0.1141 - accuracy: 0.9861 - precision: 0.9482 - recall: 0.9482 - val_loss: 0.1197 - val_accuracy: 0.9756 - val_precision: 0.8964 - val_recall: 0.9251\n",
            "Epoch 5/10\n",
            "131/131 [==============================] - 1s 6ms/step - loss: 0.0853 - accuracy: 0.9897 - precision: 0.9608 - recall: 0.9625 - val_loss: 0.0911 - val_accuracy: 0.9799 - val_precision: 0.9344 - val_recall: 0.9144\n",
            "Epoch 6/10\n",
            "131/131 [==============================] - 1s 6ms/step - loss: 0.0660 - accuracy: 0.9926 - precision: 0.9783 - recall: 0.9661 - val_loss: 0.0862 - val_accuracy: 0.9842 - val_precision: 0.9459 - val_recall: 0.9358\n",
            "Epoch 7/10\n",
            "131/131 [==============================] - 1s 6ms/step - loss: 0.0522 - accuracy: 0.9950 - precision: 0.9838 - recall: 0.9786 - val_loss: 0.0894 - val_accuracy: 0.9849 - val_precision: 0.9415 - val_recall: 0.9465\n",
            "Epoch 8/10\n",
            "131/131 [==============================] - 1s 6ms/step - loss: 0.0425 - accuracy: 0.9966 - precision: 0.9892 - recall: 0.9857 - val_loss: 0.0673 - val_accuracy: 0.9849 - val_precision: 0.9511 - val_recall: 0.9358\n",
            "Epoch 9/10\n",
            "131/131 [==============================] - 1s 6ms/step - loss: 0.0352 - accuracy: 0.9971 - precision: 0.9910 - recall: 0.9875 - val_loss: 0.0633 - val_accuracy: 0.9842 - val_precision: 0.9508 - val_recall: 0.9305\n",
            "Epoch 10/10\n",
            "131/131 [==============================] - 1s 6ms/step - loss: 0.0295 - accuracy: 0.9971 - precision: 0.9893 - recall: 0.9893 - val_loss: 0.0604 - val_accuracy: 0.9864 - val_precision: 0.9667 - val_recall: 0.9305\n"
          ]
        }
      ],
      "source": [
        "# Fit the model\n",
        "history = model.fit(train_texts,\n",
        "                    train_labels,\n",
        "                    epochs=10,\n",
        "                    validation_data=(val_texts, val_labels),\n",
        "                    class_weight=class_weight)"
      ]
    },
    {
      "attachments": {},
      "cell_type": "markdown",
      "metadata": {},
      "source": [
        "# Evaluate the model"
      ]
    },
    {
      "cell_type": "code",
      "execution_count": 14,
      "metadata": {},
      "outputs": [
        {
          "name": "stdout",
          "output_type": "stream",
          "text": [
            "44/44 [==============================] - 0s 959us/step - loss: 0.0604 - accuracy: 0.9864 - precision: 0.9667 - recall: 0.9305\n"
          ]
        },
        {
          "data": {
            "text/plain": [
              "[0.06043415889143944,\n",
              " 0.9863505959510803,\n",
              " 0.9666666388511658,\n",
              " 0.9304812550544739]"
            ]
          },
          "execution_count": 14,
          "metadata": {},
          "output_type": "execute_result"
        }
      ],
      "source": [
        "# Evaluate the model\n",
        "model.evaluate(val_texts, val_labels)"
      ]
    },
    {
      "cell_type": "code",
      "execution_count": 15,
      "metadata": {
        "id": "J9tD9yACG6M9"
      },
      "outputs": [
        {
          "name": "stdout",
          "output_type": "stream",
          "text": [
            "1/1 [==============================] - 0s 83ms/step\n",
            "[0, 'ham']\n"
          ]
        }
      ],
      "source": [
        "# function to predict messages based on model\n",
        "# (should return list containing prediction and label, ex. [0.008318834938108921, 'ham'])\n",
        "def predict_message(pred_text):\n",
        "  # get the prediction and round it to 0 or 1\n",
        "  prediction = round(model.predict([pred_text])[0][0]) \n",
        "\n",
        "  if prediction == 1:\n",
        "    return [prediction, 'spam']\n",
        "  else:\n",
        "    return [prediction, 'ham']\n",
        "\n",
        "pred_text = \"how are you doing today?\"\n",
        "\n",
        "prediction = predict_message(pred_text)\n",
        "print(prediction)"
      ]
    },
    {
      "cell_type": "code",
      "execution_count": 16,
      "metadata": {
        "id": "Dxotov85SjsC"
      },
      "outputs": [
        {
          "name": "stdout",
          "output_type": "stream",
          "text": [
            "1/1 [==============================] - 0s 21ms/step\n",
            "1/1 [==============================] - 0s 26ms/step\n",
            "1/1 [==============================] - 0s 24ms/step\n",
            "1/1 [==============================] - 0s 24ms/step\n",
            "1/1 [==============================] - 0s 23ms/step\n",
            "1/1 [==============================] - 0s 24ms/step\n",
            "1/1 [==============================] - 0s 23ms/step\n",
            "You passed the challenge. Great job!\n"
          ]
        }
      ],
      "source": [
        "# Run this cell to test your function and model. Do not modify contents.\n",
        "def test_predictions():\n",
        "  test_messages = [\"how are you doing today\",\n",
        "                   \"sale today! to stop texts call 98912460324\",\n",
        "                   \"i dont want to go. can we try it a different day? available sat\",\n",
        "                   \"our new mobile video service is live. just install on your phone to start watching.\",\n",
        "                   \"you have won £1000 cash! call to claim your prize.\",\n",
        "                   \"i'll bring it tomorrow. don't forget the milk.\",\n",
        "                   \"wow, is your arm alright. that happened to me one time too\"\n",
        "                  ]\n",
        "\n",
        "  test_answers = [\"ham\", \"spam\", \"ham\", \"spam\", \"spam\", \"ham\", \"ham\"]\n",
        "  passed = True\n",
        "\n",
        "  for msg, ans in zip(test_messages, test_answers):\n",
        "    prediction = predict_message(msg)\n",
        "    if prediction[1] != ans:\n",
        "      passed = False\n",
        "\n",
        "  if passed:\n",
        "    print(\"You passed the challenge. Great job!\")\n",
        "  else:\n",
        "    print(\"You haven't passed yet. Keep trying.\")\n",
        "\n",
        "test_predictions()\n"
      ]
    }
  ],
  "metadata": {
    "colab": {
      "collapsed_sections": [],
      "name": "fcc_sms_text_classification.ipynb",
      "private_outputs": true,
      "provenance": [],
      "toc_visible": true
    },
    "kernelspec": {
      "display_name": "data-analysis",
      "language": "python",
      "name": "data-analysis"
    },
    "language_info": {
      "codemirror_mode": {
        "name": "ipython",
        "version": 3
      },
      "file_extension": ".py",
      "mimetype": "text/x-python",
      "name": "python",
      "nbconvert_exporter": "python",
      "pygments_lexer": "ipython3",
      "version": "3.10.6"
    }
  },
  "nbformat": 4,
  "nbformat_minor": 0
}
